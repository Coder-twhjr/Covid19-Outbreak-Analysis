{
  "nbformat": 4,
  "nbformat_minor": 0,
  "metadata": {
    "colab": {
      "provenance": [],
      "collapsed_sections": [],
      "include_colab_link": true
    },
    "kernelspec": {
      "name": "python3",
      "display_name": "Python 3"
    }
  },
  "cells": [
    {
      "cell_type": "markdown",
      "metadata": {
        "id": "view-in-github",
        "colab_type": "text"
      },
      "source": [
        "<a href=\"https://colab.research.google.com/github/Coder-twhjr/Covid19-Outbreak-Analysis/blob/main/Variables_%26_Data_Types.ipynb\" target=\"_parent\"><img src=\"https://colab.research.google.com/assets/colab-badge.svg\" alt=\"Open In Colab\"/></a>"
      ]
    },
    {
      "cell_type": "markdown",
      "metadata": {
        "id": "mFDyd3uB4WBx"
      },
      "source": [
        "#Mind Reader Game - Variables & Data-Types\n"
      ]
    },
    {
      "cell_type": "code",
      "metadata": {
        "id": "LOuPp_5WVLKM",
        "colab": {
          "base_uri": "https://localhost:8080/"
        },
        "outputId": "b59a9cda-3b55-4a6b-c737-2038a0f33c77"
      },
      "source": [
        "print(\"You entered\")"
      ],
      "execution_count": null,
      "outputs": [
        {
          "output_type": "stream",
          "name": "stdout",
          "text": [
            "You entered\n"
          ]
        }
      ]
    },
    {
      "cell_type": "code",
      "metadata": {
        "id": "OUCYA-WXXDwd",
        "colab": {
          "base_uri": "https://localhost:8080/"
        },
        "outputId": "8009c247-74a9-4f74-865b-4cf23511b0b0"
      },
      "source": [
        "print(\"Computer predicted\")"
      ],
      "execution_count": null,
      "outputs": [
        {
          "output_type": "stream",
          "name": "stdout",
          "text": [
            "Computer predicted\n"
          ]
        }
      ]
    },
    {
      "cell_type": "markdown",
      "metadata": {
        "id": "eC5-Kf5ne1ON"
      },
      "source": [
        "---"
      ]
    },
    {
      "cell_type": "markdown",
      "metadata": {
        "id": "Ww9Zh65UZ-M3"
      },
      "source": [
        "####Variables And Data-Types\n",
        "\n"
      ]
    },
    {
      "cell_type": "code",
      "metadata": {
        "id": "h-abfjmcA1c6"
      },
      "source": [
        "planet1_name = \"Mercury\"\n",
        "planet1_dia = 4789\n",
        "planet1_gravity = 3.7\n",
        "planet1_has_ring = False"
      ],
      "execution_count": null,
      "outputs": []
    },
    {
      "cell_type": "code",
      "metadata": {
        "id": "YZWNWc9cQNLl",
        "colab": {
          "base_uri": "https://localhost:8080/"
        },
        "outputId": "a3b7c764-4321-40de-e9eb-e89aff831c4a"
      },
      "source": [
        "print(planet1_name)\n",
        "print(planet1_dia)\n",
        "print(planet1_gravity)\n",
        "print(planet1_has_ring)"
      ],
      "execution_count": null,
      "outputs": [
        {
          "output_type": "stream",
          "name": "stdout",
          "text": [
            "Mercury\n",
            "4789\n",
            "3.7\n",
            "False\n"
          ]
        }
      ]
    },
    {
      "cell_type": "code",
      "metadata": {
        "id": "oGvlD4fb7KGx",
        "colab": {
          "base_uri": "https://localhost:8080/"
        },
        "outputId": "e6885a44-fdbc-4248-bbe5-82234146dc6a"
      },
      "source": [
        "planet2_name = \"Saturn\"\n",
        "planet2_dia = 120536\n",
        "planet2_gravity = 9.0\n",
        "planet2_has_ring = True\n",
        "print(planet2_name)\n",
        "print(planet2_dia)\n",
        "print(planet2_gravity)\n",
        "print(planet2_has_ring)"
      ],
      "execution_count": null,
      "outputs": [
        {
          "output_type": "stream",
          "name": "stdout",
          "text": [
            "Saturn\n",
            "120536\n",
            "9.0\n",
            "True\n"
          ]
        }
      ]
    },
    {
      "cell_type": "markdown",
      "metadata": {
        "id": "9uje_j6zditR"
      },
      "source": [
        "####The `input()` Function^^"
      ]
    },
    {
      "cell_type": "code",
      "metadata": {
        "id": "-dpOB_mse2kx",
        "colab": {
          "base_uri": "https://localhost:8080/"
        },
        "outputId": "9b7d09e4-79f7-4ae7-f1e0-00b215fef0c9"
      },
      "source": [
        "player_input = input(\"Enter either 0 or 1\")\n",
        "print(\"You entered\", player_input)"
      ],
      "execution_count": null,
      "outputs": [
        {
          "output_type": "stream",
          "name": "stdout",
          "text": [
            "Enter either 0 or 10\n",
            "You entered 0\n"
          ]
        }
      ]
    },
    {
      "cell_type": "code",
      "metadata": {
        "id": "5LD6mU8GtwOK",
        "colab": {
          "base_uri": "https://localhost:8080/"
        },
        "outputId": "d1b8e07d-7557-440c-e92e-7f1501bf212a"
      },
      "source": [
        "player_name = input(\"Enter your name: \")\n",
        "print(\"Hello,\", player_name, \"! Welcome to the Mind Reader Game.\")"
      ],
      "execution_count": null,
      "outputs": [
        {
          "output_type": "stream",
          "name": "stdout",
          "text": [
            "Enter your name: A\n",
            "Hello, A ! Welcome to the Mind Reader Game.\n"
          ]
        }
      ]
    },
    {
      "cell_type": "markdown",
      "metadata": {
        "id": "faTX4j4_nQCR"
      },
      "source": [
        "---"
      ]
    },
    {
      "cell_type": "markdown",
      "metadata": {
        "id": "NhWXS7kufHgs"
      },
      "source": [
        "####Importing A Module\n",
        "\n"
      ]
    },
    {
      "cell_type": "code",
      "metadata": {
        "id": "a4iQ512__59G",
        "colab": {
          "base_uri": "https://localhost:8080/"
        },
        "outputId": "45006d24-1ced-4b75-ca93-49fb80e7308b"
      },
      "source": [
        "import random\n",
        "die_roll = random.randint(1, 6)\n",
        "print(die_roll)"
      ],
      "execution_count": null,
      "outputs": [
        {
          "output_type": "stream",
          "name": "stdout",
          "text": [
            "6\n"
          ]
        }
      ]
    },
    {
      "cell_type": "code",
      "metadata": {
        "id": "WIjr_zTyHxhQ",
        "colab": {
          "base_uri": "https://localhost:8080/"
        },
        "outputId": "6284be73-6277-4ecd-f2f9-fb16716bd1ad"
      },
      "source": [
        "import random\n",
        "predict = random.randint(0, 1)\n",
        "print(predict)"
      ],
      "execution_count": null,
      "outputs": [
        {
          "output_type": "stream",
          "name": "stdout",
          "text": [
            "0\n"
          ]
        }
      ]
    },
    {
      "cell_type": "markdown",
      "metadata": {
        "id": "cOTsGjXEAAlM"
      },
      "source": [
        "---"
      ]
    },
    {
      "cell_type": "markdown",
      "metadata": {
        "id": "yGBbg3WNveFT"
      },
      "source": [
        "####A Very Simple Mind Reader Algorithm"
      ]
    },
    {
      "cell_type": "code",
      "metadata": {
        "id": "yvas4G2yAKLJ",
        "colab": {
          "base_uri": "https://localhost:8080/"
        },
        "outputId": "977d1b48-9159-467d-f487-a3211efe6960"
      },
      "source": [
        "player_input = input(\"Enter either 0 or 1: \")\n",
        "print(\"You entered\", player_input)\n",
        "predict = random.randint(0, 1)\n",
        "print(\"Computer predicted\", predict)"
      ],
      "execution_count": null,
      "outputs": [
        {
          "output_type": "stream",
          "name": "stdout",
          "text": [
            "Enter either 0 or 1: 1\n",
            "You entered 1\n",
            "Computer predicted 0\n"
          ]
        }
      ]
    },
    {
      "cell_type": "markdown",
      "metadata": {
        "id": "Pu86T_jToJ2z"
      },
      "source": [
        "---"
      ]
    },
    {
      "cell_type": "markdown",
      "metadata": {
        "id": "DUwnP_lMHmYn"
      },
      "source": [
        "---"
      ]
    },
    {
      "cell_type": "markdown",
      "metadata": {
        "id": "delL52knHnLD"
      },
      "source": [
        "####Single-Line Value Assignment"
      ]
    },
    {
      "cell_type": "code",
      "metadata": {
        "id": "Zr4J70VKHuff",
        "colab": {
          "base_uri": "https://localhost:8080/"
        },
        "outputId": "df703381-1c70-40db-d4ce-7404b4591bb3"
      },
      "source": [
        "p_name, p_dia, p_grav, p_ring = \"Venus\", 12104, 8.9, False\n",
        "print(\"Name:\", p_name) # String\n",
        "print(\"Diameter:\", p_dia) # Integer\n",
        "print(\"Gravity:\", p_grav) # Float\n",
        "print(\"Has Ring:\", p_ring) # Boolean"
      ],
      "execution_count": null,
      "outputs": [
        {
          "output_type": "stream",
          "name": "stdout",
          "text": [
            "Name: Venus\n",
            "Diameter: 12104\n",
            "Gravity: 8.9\n",
            "Has Ring: False\n"
          ]
        }
      ]
    },
    {
      "cell_type": "markdown",
      "metadata": {
        "id": "r0m8Ip36H9Dw"
      },
      "source": [
        "---"
      ]
    },
    {
      "cell_type": "markdown",
      "metadata": {
        "id": "fNbqCIP_H4Zd"
      },
      "source": [
        "####Value Swapping"
      ]
    },
    {
      "cell_type": "code",
      "metadata": {
        "id": "7caSYHP0H-jz",
        "colab": {
          "base_uri": "https://localhost:8080/"
        },
        "outputId": "ee42959c-2714-4100-9d10-4d70520ab18a"
      },
      "source": [
        "planet1_name, planet2_name = planet2_name, planet1_name\n",
        "planet1_dia, planet2_dia = planet2_dia, planet1_dia\n",
        "print(planet1_name)\n",
        "print(planet1_dia) \n",
        "print(planet2_name) \n",
        "print(planet2_dia)"
      ],
      "execution_count": null,
      "outputs": [
        {
          "output_type": "stream",
          "name": "stdout",
          "text": [
            "Saturn\n",
            "120536\n",
            "Mercury\n",
            "4789\n"
          ]
        }
      ]
    },
    {
      "cell_type": "markdown",
      "metadata": {
        "id": "AO3gyMPhHSW8"
      },
      "source": [
        "---"
      ]
    }
  ]
}